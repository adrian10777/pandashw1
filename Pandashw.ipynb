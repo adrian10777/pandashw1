{
 "cells": [
  {
   "cell_type": "code",
   "execution_count": 3,
   "id": "83c4dbed",
   "metadata": {},
   "outputs": [
    {
     "name": "stdout",
     "output_type": "stream",
     "text": [
      "Requirement already satisfied: pandas in c:\\users\\adria\\anaconda3\\lib\\site-packages (1.2.4)\n",
      "Requirement already satisfied: numpy>=1.16.5 in c:\\users\\adria\\anaconda3\\lib\\site-packages (from pandas) (1.20.1)\n",
      "Requirement already satisfied: python-dateutil>=2.7.3 in c:\\users\\adria\\anaconda3\\lib\\site-packages (from pandas) (2.8.1)\n",
      "Requirement already satisfied: pytz>=2017.3 in c:\\users\\adria\\anaconda3\\lib\\site-packages (from pandas) (2021.1)\n",
      "Requirement already satisfied: six>=1.5 in c:\\users\\adria\\anaconda3\\lib\\site-packages (from python-dateutil>=2.7.3->pandas) (1.15.0)\n"
     ]
    }
   ],
   "source": [
    "!pip install pandas"
   ]
  },
  {
   "cell_type": "code",
   "execution_count": 6,
   "id": "e4c04b72",
   "metadata": {},
   "outputs": [],
   "source": [
    "import pandas as pd\n",
    "import numpy as np"
   ]
  },
  {
   "cell_type": "code",
   "execution_count": null,
   "id": "e5ac75dd",
   "metadata": {},
   "outputs": [],
   "source": [
    "Homework Exercise #1 - Find the Total Number of Runs and RBIs for the Red Sox Get total number of home runs and RBI's"
   ]
  },
  {
   "cell_type": "code",
   "execution_count": 24,
   "id": "6588740f",
   "metadata": {
    "scrolled": true
   },
   "outputs": [
    {
     "name": "stdout",
     "output_type": "stream",
     "text": [
      "    Rk Pos                Name  Age    G   PA   AB    R    H  2B  ...    OBP  \\\n",
      "0    1   C   Christian Vazquez   26   99  345  324   43   94  18  ...  0.330   \n",
      "1    2  1B      Mitch Moreland   31  149  576  508   73  125  34  ...  0.326   \n",
      "2    3  2B      Dustin Pedroia   33  105  463  406   46  119  19  ...  0.369   \n",
      "3    4  SS     Xander Bogaerts   24  148  635  571   94  156  32  ...  0.343   \n",
      "4    5  3B       Rafael Devers   20   58  240  222   34   63  14  ...  0.338   \n",
      "5    6  LF   Andrew Benintendi   22  151  658  573   84  155  26  ...  0.352   \n",
      "6    7  CF  Jackie Bradley Jr.   27  133  541  482   58  118  19  ...  0.323   \n",
      "7    8  RF        Mookie Betts   24  153  712  628  101  166  46  ...  0.344   \n",
      "8    9  DH      Hanley Ramirez   33  133  553  496   58  120  24  ...  0.320   \n",
      "9   10   C          Sandy Leon   28   85  301  271   32   61  14  ...  0.290   \n",
      "10  11  UT         Chris Young   33   90  276  243   30   57  12  ...  0.322   \n",
      "11  12  3B       Deven Marrero   26   71  188  171   32   36   9  ...  0.259   \n",
      "12  13  2B       Eduardo Nunez   30   38  173  165   23   53  12  ...  0.353   \n",
      "13  14  2B          Brock Holt   29   64  164  140   20   28   6  ...  0.305   \n",
      "14  15  IF       Josh Rutledge   28   37  118  107   10   24   2  ...  0.297   \n",
      "15  16  3B      Pablo Sandoval   30   32  108   99   10   21   2  ...  0.269   \n",
      "16  17  UT          Sam Travis   23   33   83   76   13   20   6  ...  0.325   \n",
      "17  18  UT         Tzu-Wei Lin   23   25   66   56    7   15   0  ...  0.369   \n",
      "18  19  IF     Marco Hernandez   24   21   60   58    7   16   3  ...  0.300   \n",
      "19  20  UT         Rajai Davis   36   17   38   36    7    9   2  ...  0.289   \n",
      "20  21  UT        Steve Selsky   27    8    9    9    0    1   1  ...  0.111   \n",
      "21  22  UT       Blake Swihart   25    6    7    5    1    1   0  ...  0.429   \n",
      "22  23  2B      Chase d'Arnaud   30    2    1    1    2    1   0  ...  1.000   \n",
      "\n",
      "      SLG    OPS  OPS+   TB  GDP  HBP  SH  SF  IBB  \n",
      "0   0.404  0.735    91  131   14    3   0   1    0  \n",
      "1   0.443  0.769    99  225   14    6   0   5    6  \n",
      "2   0.392  0.760   100  159   11    2   2   4    4  \n",
      "3   0.403  0.746    95  230   17    6   0   2    6  \n",
      "4   0.482  0.819   111  107    5    0   0   0    3  \n",
      "5   0.424  0.776   102  243   16    6   1   8    7  \n",
      "6   0.402  0.726    89  194    8    9   0   2    4  \n",
      "7   0.459  0.803   108  288    9    2   0   5    9  \n",
      "8   0.429  0.750    94  213   15    6   0   0    8  \n",
      "9   0.354  0.644    68   96    5    1   1   3    1  \n",
      "10  0.387  0.709    85   94    4    2   0   1    0  \n",
      "11  0.333  0.593    54   57    8    0   3   2    0  \n",
      "12  0.539  0.892   128   89    3    2   0   0    0  \n",
      "13  0.243  0.548    47   34    3    3   0   2    0  \n",
      "14  0.262  0.558    49   28    1    2   0   0    0  \n",
      "15  0.354  0.622    61   35    4    0   0   1    0  \n",
      "16  0.342  0.667    75   26    2    1   0   0    0  \n",
      "17  0.339  0.709    88   19    0    0   1   0    0  \n",
      "18  0.328  0.628    65   19    0    1   0   0    0  \n",
      "19  0.306  0.595    56   11    2    1   0   0    0  \n",
      "20  0.222  0.333   -16    2    0    0   0   0    0  \n",
      "21  0.200  0.629    74    1    0    0   0   0    0  \n",
      "22  1.000  2.000   428    1    0    0   0   0    0  \n",
      "\n",
      "[23 rows x 28 columns]\n",
      "    Rk Pos                Name  Age    G   PA   AB    R    H  2B  ...    OBP  \\\n",
      "0    1   C          Sandy Leon   29   89  288  265   30   47  12  ...  0.232   \n",
      "1    2  1B      Mitch Moreland   32  124  459  404   57   99  23  ...  0.325   \n",
      "2    3  2B       Eduardo Nunez   31  127  502  480   56  127  23  ...  0.289   \n",
      "3    4  SS     Xander Bogaerts   25  136  580  513   72  148  45  ...  0.360   \n",
      "4    5  3B       Rafael Devers   21  121  490  450   59  108  24  ...  0.298   \n",
      "5    6  LF   Andrew Benintendi   23  148  661  579  103  168  41  ...  0.366   \n",
      "6    7  CF  Jackie Bradley Jr.   28  144  535  474   76  111  33  ...  0.314   \n",
      "7    8  RF        Mookie Betts   25  136  614  520  129  180  47  ...  0.438   \n",
      "8    9  DH       J.D. Martinez   30  150  649  569  111  188  37  ...  0.402   \n",
      "9   10  MI          Brock Holt   30  109  367  321   41   89  18  ...  0.362   \n",
      "10  11   C   Christian Vazquez   27   80  269  251   24   52  10  ...  0.257   \n",
      "11  12  UT       Blake Swihart   26   82  207  192   28   44  10  ...  0.285   \n",
      "12  13  UT      Hanley Ramirez   34   44  195  177   25   45   7  ...  0.313   \n",
      "13  14  1B        Steve Pearce   35   50  165  136   19   38   8  ...  0.394   \n",
      "14  15  2B         Ian Kinsler   36   37  143  132   17   32   6  ...  0.294   \n",
      "15  16  SS         Tzu-Wei Lin   24   37   73   65   15   16   6  ...  0.329   \n",
      "16  17  UT          Sam Travis   24   19   38   36    5    8   3  ...  0.263   \n",
      "17  18  UT    Brandon Phillips   37    9   27   23    4    3   0  ...  0.259   \n",
      "18  19  2B      Dustin Pedroia   34    3   13   11    1    1   0  ...  0.231   \n",
      "19  20   C          Dan Butler   31    2    7    6    0    1   0  ...  0.143   \n",
      "\n",
      "      SLG    OPS  OPS+   TB  GDP  HBP  SH  SF  IBB  \n",
      "0   0.279  0.511    37   74    6    4   3   1    0  \n",
      "1   0.433  0.758   102  175   12    0   0   5    2  \n",
      "2   0.388  0.677    81  186   17    2   1   3    0  \n",
      "3   0.522  0.883   135  268   14    6   0   6    4  \n",
      "4   0.433  0.731    94  195    9    0   0   2    6  \n",
      "5   0.465  0.830   123  269    9    2   2   7    1  \n",
      "6   0.403  0.717    92  191    6   11   0   4    3  \n",
      "7   0.640  1.078   186  333    5    8   0   5    8  \n",
      "8   0.629  1.031   173  358   19    4   0   7   11  \n",
      "9   0.411  0.774   109  132    7    7   0   2    2  \n",
      "10  0.283  0.540    46   71    5    4   1   0    1  \n",
      "11  0.328  0.613    65   63    4    0   0   0    0  \n",
      "12  0.395  0.708    90   70    9    2   0   2    0  \n",
      "13  0.507  0.901   141   69    1    5   0   2    0  \n",
      "14  0.311  0.604    64   41    5    0   0   1    0  \n",
      "15  0.415  0.744   100   27    0    0   0   0    0  \n",
      "16  0.389  0.652    73   14    1    0   0   0    0  \n",
      "17  0.261  0.520    42    6    1    0   0   0    0  \n",
      "18  0.091  0.322    -7    1    0    0   0   0    0  \n",
      "19  0.167  0.310   -17    1    0    0   0   1    0  \n",
      "\n",
      "[20 rows x 28 columns]\n"
     ]
    },
    {
     "data": {
      "text/html": [
       "<div>\n",
       "<style scoped>\n",
       "    .dataframe tbody tr th:only-of-type {\n",
       "        vertical-align: middle;\n",
       "    }\n",
       "\n",
       "    .dataframe tbody tr th {\n",
       "        vertical-align: top;\n",
       "    }\n",
       "\n",
       "    .dataframe thead th {\n",
       "        text-align: right;\n",
       "    }\n",
       "</style>\n",
       "<table border=\"1\" class=\"dataframe\">\n",
       "  <thead>\n",
       "    <tr style=\"text-align: right;\">\n",
       "      <th></th>\n",
       "      <th>HR</th>\n",
       "      <th>RBI</th>\n",
       "    </tr>\n",
       "    <tr>\n",
       "      <th>TEAM</th>\n",
       "      <th></th>\n",
       "      <th></th>\n",
       "    </tr>\n",
       "  </thead>\n",
       "  <tbody>\n",
       "    <tr>\n",
       "      <th>BOS</th>\n",
       "      <td>14</td>\n",
       "      <td>19</td>\n",
       "    </tr>\n",
       "  </tbody>\n",
       "</table>\n",
       "</div>"
      ],
      "text/plain": [
       "      HR  RBI\n",
       "TEAM         \n",
       "BOS   14   19"
      ]
     },
     "execution_count": 24,
     "metadata": {},
     "output_type": "execute_result"
    }
   ],
   "source": [
    "# step 1: Add a new column with the key 'Team' and all column values should be 'BOS'\n",
    "\n",
    "\n",
    "# step 2: Group by the 'Team' column and get total home runs and rbi's\n",
    "\n",
    "# Produce data for both 2017 and 2018 (ie print both seperated by a newline character \\n)\n",
    "\n",
    "\"\"\"\n",
    "TEAM    HR   RBI\n",
    "----------------\n",
    "BOS     144  538\n",
    "\"\"\"\n",
    "redsox2017=pd.read_csv('/Users/adria/OneDrive/Documents/coding temple/week9/files/redsox_2017_hitting.txt')\n",
    "redsox2018=pd.read_csv('/Users/adria/OneDrive/Documents/coding temple/week9/files/redsox_2018_hitting.txt')\n",
    "\n",
    "print(redsox2017)\n",
    "print(redsox2018)\n",
    "\n",
    "redsox2017['TEAM']='BOS'\n",
    "redsox2018['TEAM']='BOS'\n",
    "\n",
    "newteam2017=redsox2017[['TEAM','HR','RBI']]\n",
    "newteam2017 = newteam2017.groupby('TEAM')[['HR','RBI']].nunique()\n",
    "newteam2017\n",
    "\n",
    "\n",
    "newteam2018=redsox2018[['TEAM','HR','RBI']]\n",
    "newteam2018 = newteam2018.groupby('TEAM')[['HR','RBI']].nunique()\n",
    "newteam2018\n",
    "\n",
    "\n",
    "\n"
   ]
  },
  {
   "cell_type": "code",
   "execution_count": null,
   "id": "1f73f8be",
   "metadata": {},
   "outputs": [],
   "source": [
    "#Homework Exercise #2 - Find the average age of runners in the 2017 Boston Marathon"
   ]
  },
  {
   "cell_type": "code",
   "execution_count": 26,
   "id": "a2bc742e",
   "metadata": {},
   "outputs": [
    {
     "data": {
      "text/plain": [
       "42.587731919727375"
      ]
     },
     "execution_count": 26,
     "metadata": {},
     "output_type": "execute_result"
    }
   ],
   "source": [
    "avg_age_runner=pd.read_csv('/Users/adria/OneDrive/Documents/coding temple/week9/files/boston_marathon2017_edited.csv')\n",
    "avg_age_runner.describe()\n",
    "avg_age_runner[\"Age\"].mean()"
   ]
  },
  {
   "cell_type": "code",
   "execution_count": null,
   "id": "24f550d2",
   "metadata": {},
   "outputs": [],
   "source": []
  }
 ],
 "metadata": {
  "kernelspec": {
   "display_name": "Python 3",
   "language": "python",
   "name": "python3"
  },
  "language_info": {
   "codemirror_mode": {
    "name": "ipython",
    "version": 3
   },
   "file_extension": ".py",
   "mimetype": "text/x-python",
   "name": "python",
   "nbconvert_exporter": "python",
   "pygments_lexer": "ipython3",
   "version": "3.8.8"
  }
 },
 "nbformat": 4,
 "nbformat_minor": 5
}
